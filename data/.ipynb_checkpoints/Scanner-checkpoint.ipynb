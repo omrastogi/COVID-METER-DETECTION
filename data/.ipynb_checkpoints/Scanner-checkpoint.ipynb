{
 "cells": [
  {
   "cell_type": "code",
   "execution_count": 1,
   "metadata": {},
   "outputs": [],
   "source": [
    "import cv2\n",
    "import numpy as np\n",
    "\n",
    "\n",
    "def align(h):\n",
    "    h = h.reshape((4,2))\n",
    "    hnew = np.zeros((4,2),dtype = np.float32)\n",
    "\n",
    "    add = h.sum(1)\n",
    "    hnew[0] = h[np.argmin(add)]\n",
    "    hnew[2] = h[np.argmax(add)]\n",
    "\n",
    "    diff = np.diff(h,axis = 1)\n",
    "    hnew[1] = h[np.argmin(diff)]\n",
    "    hnew[3] = h[np.argmax(diff)]\n",
    "    return hnew\n"
   ]
  },
  {
   "cell_type": "code",
   "execution_count": 2,
   "metadata": {},
   "outputs": [],
   "source": [
    "def check(h):\n",
    "\tprint (h)\n",
    "\tfor i in range(len(h)):\n",
    "\t\tfor j in range(len(h)):\n",
    "\t\t\tif h[i][0][0]==h[j][0][0] and  h[i][0][1]==h[j][0][1]:\n",
    "\t\t\t\treturn 0\n",
    "\treturn 1"
   ]
  },
  {
   "cell_type": "code",
   "execution_count": 3,
   "metadata": {},
   "outputs": [],
   "source": [
    "def view(tag,img):\n",
    "\tcv2.imshow(tag,img)\n",
    "\tcv2.waitKey(0)\n",
    "\tcv2.destroyAllWindows()\n"
   ]
  },
  {
   "cell_type": "code",
   "execution_count": 4,
   "metadata": {},
   "outputs": [
    {
     "name": "stdout",
     "output_type": "stream",
     "text": [
      "(640, 360, 3)\n",
      "<class 'numpy.ndarray'>\n"
     ]
    }
   ],
   "source": [
    "image=cv2.imread(\"WA3.jpeg\")   #read in the image\n",
    "print(image.shape)\n",
    "image=cv2.resize(image,(360,640)) #resizing because opencv does not work well with bigger images\n",
    "orig=image.copy()\n",
    "# print (dtype(image))\n",
    "print (type(image))\n",
    "# view(\"img\",image)\n",
    "\n",
    "gray=cv2.cvtColor(image,cv2.COLOR_BGR2GRAY)  #RGB To Gray Scale\n",
    "\n",
    "blurred=cv2.GaussianBlur(gray,(3,3),3)  #(5,5) is the kernel size and 0 is sigma that determines the amount of blur\n",
    "\n",
    "\n",
    "\n",
    "edged=cv2.Canny(blurred,0,255)  #30 MinThreshold and 50 is the MaxThreshold\n",
    "# view(\"Canny\",edged)\n",
    "\n",
    "kernel = cv2.getStructuringElement(cv2.MORPH_RECT, (2,2))\n",
    "\n",
    "opening = cv2.morphologyEx(edged, cv2.MORPH_CLOSE, kernel)"
   ]
  },
  {
   "cell_type": "code",
   "execution_count": 5,
   "metadata": {},
   "outputs": [],
   "source": [
    "contours,hierarchy=cv2.findContours(opening,cv2.RETR_LIST,cv2.CHAIN_APPROX_SIMPLE)  #retrieve the contours as a list, with simple apprximation model\n",
    "\n",
    "# print(len(contours))\n",
    "\n",
    "contours=sorted(contours,key=cv2.contourArea,reverse=True)\n",
    "\n",
    "if len(contours)>600:\n",
    "\tblurred=cv2.GaussianBlur(gray,(3,3),2)\n",
    "\t# view(\"blur2\",blurred)\n",
    "\tedged=cv2.Canny(blurred,0,255)  \n",
    "\tdil = cv2.dilate(edged, kernel, iterations = 10)\n",
    "\t# view(\"Canny1\",dil)\n",
    "\tcontours,hierarchy=cv2.findContours(dil,cv2.RETR_LIST,cv2.CHAIN_APPROX_SIMPLE)  #retrieve the contours as a list, with simple apprximation model\n",
    "contours=sorted(contours,key=cv2.contourArea,reverse=True)"
   ]
  },
  {
   "cell_type": "code",
   "execution_count": 7,
   "metadata": {},
   "outputs": [
    {
     "name": "stdout",
     "output_type": "stream",
     "text": [
      "45688.0\n"
     ]
    }
   ],
   "source": [
    "max_=0\n",
    "#the loop extracts the boundary contours of the page\n",
    "for c in contours:\n",
    "    # print (c)\n",
    "    p=cv2.arcLength(c,True)\n",
    "    approx=cv2.approxPolyDP(c,0.01*p,True)\n",
    "    print (cv2.contourArea(c))\n",
    "\n",
    "    # print (approx,cv2.contourArea(c))\n",
    "    if len(approx)<9 and cv2.contourArea(c)> 400 and len(approx)>=4:\n",
    "        target=approx\n",
    "        break"
   ]
  },
  {
   "cell_type": "code",
   "execution_count": 8,
   "metadata": {},
   "outputs": [
    {
     "name": "stdout",
     "output_type": "stream",
     "text": [
      "[128, 128, 203, 238, 236, 179] [96, 509, 527, 508, 101, 112]\n"
     ]
    }
   ],
   "source": [
    "polygon = []\n",
    "poly = []\n",
    "x = []\n",
    "y = []\n",
    "for i in approx:\n",
    "    polygon.append(tuple(i[0]))\n",
    "    poly.append((i[0]))\n",
    "    x.append(i[0][0])\n",
    "    y.append(i[0][1])\n",
    "\n",
    "\n",
    "print (x,y)"
   ]
  },
  {
   "cell_type": "code",
   "execution_count": 10,
   "metadata": {},
   "outputs": [
    {
     "name": "stdout",
     "output_type": "stream",
     "text": [
      "96\n",
      "509\n",
      "527\n",
      "508\n",
      "101\n",
      "112\n"
     ]
    }
   ],
   "source": [
    "box = []\n",
    "# box.append((min(x),min(y)))\n",
    "# box.append((min(x),max(y)))\n",
    "# box.append((max(x),max(y)))\n",
    "# box.append((max(x),min(y)))\n",
    "# print (box)\n",
    "\n",
    "y_mean = sum(y)//len(x)\n",
    "y_up = max(y)\n",
    "y_down = min(y)\n",
    "for val in y:\n",
    "    print (val)\n",
    "    if val>y_mean and y_up>val:\n",
    "        y_up = val\n",
    "    if val<y_mean and y_down<val:\n",
    "        y_down = val \n",
    "\n",
    "box.append((min(x),y_down))\n",
    "box.append((min(x),y_up))\n",
    "box.append((max(x),y_up))\n",
    "box.append((max(x),y_down))"
   ]
  },
  {
   "cell_type": "code",
   "execution_count": null,
   "metadata": {},
   "outputs": [],
   "source": [
    "x =300\n",
    "boxplot = []\n",
    "for pt in box:\n",
    "    boxplot.append(list(pt))\n",
    "boxplot = np.float32(np.array(boxplot))\n",
    "pts=np.float32([[0,0],[800,0],[800,400],[0,400]])  #map to 800*800 target window\n",
    "# # print (approx)\n",
    "# for points in list(box):\n",
    "# \torig = cv2.circle(orig, tuple(points), 3, (0,255,0), 2)\n",
    "# view(\"dot\",orig) \n",
    "op=cv2.getPerspectiveTransform(boxplot,pts)  #get the top or bird eye view effect\n",
    "dst=cv2.warpPerspective(orig,op,(800,400))\n",
    "view('img',dst)"
   ]
  }
 ],
 "metadata": {
  "kernelspec": {
   "display_name": "Python 3",
   "language": "python",
   "name": "python3"
  },
  "language_info": {
   "codemirror_mode": {
    "name": "ipython",
    "version": 3
   },
   "file_extension": ".py",
   "mimetype": "text/x-python",
   "name": "python",
   "nbconvert_exporter": "python",
   "pygments_lexer": "ipython3",
   "version": "3.7.7"
  }
 },
 "nbformat": 4,
 "nbformat_minor": 4
}
